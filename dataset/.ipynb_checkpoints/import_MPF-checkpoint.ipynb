{
 "cells": [
  {
   "cell_type": "markdown",
   "id": "fe3c7356",
   "metadata": {},
   "source": [
    "# Séparer les données MPF du fichier de l'ancien groupe\n",
    "Ancien groupe = le groupe de projet tuteuré TAL de 2021-2022"
   ]
  },
  {
   "cell_type": "code",
   "execution_count": 17,
   "id": "b004b616",
   "metadata": {},
   "outputs": [],
   "source": [
    "import csv\n",
    "\n",
    "def recuperer_et_enregistrer_lignes_mpf(nom_fichier_entree, nom_fichier_sortie):\n",
    "    lignes_mpf = []\n",
    "\n",
    "    with open(nom_fichier_entree, 'r', newline='') as fichier_csv:\n",
    "        lecteur_csv = csv.DictReader(fichier_csv)\n",
    "\n",
    "        # Récupérer les noms des colonnes\n",
    "        colonnes = lecteur_csv.fieldnames\n",
    "\n",
    "        for ligne in lecteur_csv:\n",
    "            # Vérifier si la valeur de la colonne 'filename' commence par 'MPF'\n",
    "            if ligne['filename'].startswith('MPF'):\n",
    "                lignes_mpf.append(ligne)\n",
    "\n",
    "    # Enregistrer le résultat dans un nouveau fichier CSV\n",
    "    with open(nom_fichier_sortie, 'w', newline='') as fichier_sortie:\n",
    "        ecrivain_csv = csv.DictWriter(fichier_sortie, fieldnames=colonnes)\n",
    "\n",
    "        # Écrire les noms de colonnes dans le fichier CSV\n",
    "        ecrivain_csv.writeheader()\n",
    "\n",
    "        # Écrire chaque ligne dans le fichier CSV\n",
    "        ecrivain_csv.writerows(lignes_mpf)\n",
    "\n",
    "# L'utilisation\n",
    "nom_fichier_entree = '../../../Downloads/augmented_dataset.csv'\n",
    "nom_fichier_sortie = './dataset_MPF.csv'\n",
    "recuperer_et_enregistrer_lignes_mpf(nom_fichier_entree, nom_fichier_sortie)"
   ]
  },
  {
   "cell_type": "markdown",
   "id": "b2ef278b",
   "metadata": {},
   "source": [
    "# Extraction des colonnes qui nous intéressent dans le doc officiel MPF\n",
    "Les informations socioprofessionnelles des locuteurs du dataset MPF"
   ]
  },
  {
   "cell_type": "code",
   "execution_count": null,
   "id": "a7307ea4",
   "metadata": {},
   "outputs": [],
   "source": [
    "import pandas as pd\n",
    "\n",
    "chemin_fichier_excel = './FichesSignaletiquesCorpusMPF.xlsx'\n",
    "df = pd.read_excel(chemin_fichier_excel)\n",
    "\n",
    "# Extrayez les colonnes spécifiques\n",
    "data_source = df[['Prénom', 'Niveau scolaire / études', 'Profession']]\n",
    "\n",
    "data_source.to_csv('./data_source.csv', index=False)\n",
    "\n",
    "print(data_source['Prénom'])"
   ]
  },
  {
   "cell_type": "markdown",
   "id": "e450eafe",
   "metadata": {},
   "source": [
    "# Ajout de ces colonnes dans dataset_MPF.csv"
   ]
  },
  {
   "cell_type": "markdown",
   "id": "f4ad8f75",
   "metadata": {},
   "source": [
    "prenom_re = r'MPF_(\\w+)_\\d+\\.txt'"
   ]
  },
  {
   "cell_type": "code",
   "execution_count": 17,
   "id": "1dc95629",
   "metadata": {},
   "outputs": [],
   "source": [
    "import csv\n",
    "import re\n",
    "\n",
    "def file_destination(fichier_source, fichier_destination, data_source_path):\n",
    "    \n",
    "    with open(fichier_source, 'r', newline='', encoding='utf-8') as csvfile:\n",
    "        lire = csv.DictReader(csvfile)\n",
    "        champs = lire.fieldnames\n",
    "\n",
    "    champs_total = champs + ['niveau_etude', 'INSEE']\n",
    "\n",
    "    with open(fichier_destination, 'w', newline='', encoding='utf-8') as csvfile:\n",
    "        ecrire = csv.DictWriter(csvfile, fieldnames=champs_total)\n",
    "        ecrire.writeheader()\n",
    "\n",
    "        with open(data_source_path, 'r', newline='', encoding='utf-8') as datafile:\n",
    "            data_source = csv.DictReader(datafile)\n",
    "            \n",
    "            for ligne_destination in csv.DictReader(open(fichier_source, 'r', newline='', encoding='utf-8')):\n",
    "                prenom_destination = ligne_destination['filename']\n",
    "                \n",
    "                # On fait une regex pour matcher le prénom qui se trouve dans le filename\n",
    "                prenom_re = re.compile(r'MPF_(\\w+)_\\d+\\.txt')\n",
    "                prenom_re = prenom_re.findall(prenom_destination)\n",
    "\n",
    "                # Liste qui va garder toutes les informations assorties\n",
    "                matching_names = []  \n",
    "\n",
    "                for prenom in prenom_re:\n",
    "                    datafile.seek(0)  # Reset the data_source to the beginning for each iteration\n",
    "                    matching_names.clear()  # Clear the list for each new ligne_destination\n",
    "                    \n",
    "                    for ligne_source in data_source:\n",
    "                        prenom_source = ligne_source['Prénom']\n",
    "\n",
    "                        if prenom_source == prenom:\n",
    "                            ligne_destination['niveau_etude'] = ligne_source['Niveau scolaire / études']\n",
    "                            ligne_destination['INSEE'] = ligne_source['Profession']\n",
    "                            \n",
    "                            matching_names.append(dict(ligne_destination))  # Append the dictionary\n",
    "                            # print(matching_names)\n",
    "                            \n",
    "                for match in matching_names:\n",
    "                    ecrire.writerow(match)\n",
    "\n",
    "fichier_source = './dataset_MPF.csv'\n",
    "fichier_destination = './dataset_MPF2.csv'\n",
    "data_source = './data_source.csv'\n",
    "file_destination(fichier_source, fichier_destination, data_source)\n"
   ]
  },
  {
   "cell_type": "markdown",
   "id": "ca88530b",
   "metadata": {},
   "source": [
    "# Rassemblement des fichiers datas MPF et ESLO"
   ]
  }
 ],
 "metadata": {
  "kernelspec": {
   "display_name": "Python 3 (ipykernel)",
   "language": "python",
   "name": "python3"
  },
  "language_info": {
   "codemirror_mode": {
    "name": "ipython",
    "version": 3
   },
   "file_extension": ".py",
   "mimetype": "text/x-python",
   "name": "python",
   "nbconvert_exporter": "python",
   "pygments_lexer": "ipython3",
   "version": "3.9.12"
  }
 },
 "nbformat": 4,
 "nbformat_minor": 5
}
