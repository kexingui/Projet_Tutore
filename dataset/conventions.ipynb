{
 "cells": [
  {
   "cell_type": "code",
   "execution_count": 1,
   "metadata": {},
   "outputs": [],
   "source": [
    "import re\n",
    "\n",
    "def homogenize_text(text, corpus):\n",
    "    \n",
    "    # Standardization de l'orthographe\n",
    "    text = re.sub(r\"\\by’a\\b\", \"il y a\", text)\n",
    "    \n",
    "    # Standardization de la ponctuation\n",
    "    if corpus == \"MPF\":\n",
    "        text = text.capitalize()\n",
    "        text = re.sub(r\"\\?|\\.\\.\\.\", \"\", text)\n",
    "    elif corpus == \"ESLO\":\n",
    "        text = re.sub(r\"\\?|\\.\\.\\.\", \"\", text)\n",
    "    elif corpus == \"LangAge\":\n",
    "        text = re.sub(r\"‘|“|”\", \"'\", text)\n",
    "        text = re.sub(r\"\\?|\\.\\.\\.\", \"\", text)\n",
    "    \n",
    "    # Segments inaudibles\n",
    "    text = re.sub(r\"\\(\\s?xxx\\s?\\)\", \"\", text)\n",
    "    \n",
    "    # Silences\n",
    "    text = re.sub(r\"\\(\\.\\)\", \"\", text)\n",
    "    \n",
    "    # Chevauchements\n",
    "    text = re.sub(r\"aa < bb > cc\", \"\", text)\n",
    "    \n",
    "    # Rires\n",
    "    text = re.sub(r\"\\(rires\\)\", \"\", text)\n",
    "        \n",
    "    # Mots étrangers\n",
    "    text = re.sub(r\"&(\\w+)\", r\"&\\1\", text)\n",
    "    text = re.sub(r\"\\[en\\]: English\", \"&\\1\", text)\n",
    "    text = re.sub(r\"\\[di\\]: Dialect\", \"&\\1\", text)\n",
    "    \n",
    "    # Anonymes\n",
    "    text = re.sub(r\"@a\", \"\", text)\n",
    "    \n",
    "    # Onomatopées\n",
    "    text = re.sub(r\"\\bheu\\b\", \"euh\", text)\n",
    "    text = re.sub(r\"\\bhou\\b\", \"ouh\", text)\n",
    "    text = re.sub(r\"\\byouh\\b|\\boh\\b\", \"ouh\", text)\n",
    "    \n",
    "    return text"
   ]
  },
  {
   "cell_type": "code",
   "execution_count": 2,
   "metadata": {},
   "outputs": [],
   "source": [
    "import csv\n",
    "\n",
    "def process_csv(input_file, output_file, corpus):\n",
    "    with open(input_file, mode='r', encoding='utf-8') as infile, \\\n",
    "         open(output_file, mode='w', encoding='utf-8', newline='') as outfile:\n",
    "        \n",
    "        reader = csv.reader(infile)\n",
    "        writer = csv.writer(outfile)\n",
    "        \n",
    "        for row in reader:\n",
    "            homogenized_row = [homogenize_text(cell, corpus) for cell in row]\n",
    "            writer.writerow(homogenized_row)"
   ]
  },
  {
   "cell_type": "code",
   "execution_count": null,
   "metadata": {},
   "outputs": [],
   "source": []
  }
 ],
 "metadata": {
  "kernelspec": {
   "display_name": "Python 3",
   "language": "python",
   "name": "python3"
  },
  "language_info": {
   "codemirror_mode": {
    "name": "ipython",
    "version": 3
   },
   "file_extension": ".py",
   "mimetype": "text/x-python",
   "name": "python",
   "nbconvert_exporter": "python",
   "pygments_lexer": "ipython3",
   "version": "3.7.3"
  }
 },
 "nbformat": 4,
 "nbformat_minor": 2
}
